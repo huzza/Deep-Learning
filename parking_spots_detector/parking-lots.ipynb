{
 "cells": [
  {
   "cell_type": "code",
   "execution_count": 33,
   "metadata": {
    "collapsed": true
   },
   "outputs": [],
   "source": [
    "import numpy as np\n",
    "import os\n",
    "from keras import applications\n",
    "from keras.preprocessing.image import ImageDataGenerator\n",
    "from keras import optimizers\n",
    "from keras.models import Sequential, Model\n",
    "from keras.layers import Dropout, Flatten, Dense, GlobalAveragePooling2D\n",
    "from keras import backend as k\n",
    "from keras.callbacks import ModelCheckpoint, LearningRateScheduler, TensorBoard, EarlyStopping"
   ]
  },
  {
   "cell_type": "code",
   "execution_count": 34,
   "metadata": {
    "collapsed": true
   },
   "outputs": [],
   "source": [
    "def get_folder_files(folder):\n",
    "    files_cnt = 0\n",
    "    for sub_folder in os.listdir(folder):\n",
    "        path, dirs, files = next(os.walk(os.path.join(folder, sub_folder)))\n",
    "        files_cnt += len(files)\n",
    "    return files_cnt"
   ]
  },
  {
   "cell_type": "code",
   "execution_count": 35,
   "metadata": {},
   "outputs": [
    {
     "name": "stdout",
     "output_type": "stream",
     "text": [
      "381 164\n"
     ]
    }
   ],
   "source": [
    "train_data_dir = \"train_data/train\"\n",
    "validation_data_dir = \"train_data/test\"\n",
    "\n",
    "files_train = get_folder_files(train_data_dir)\n",
    "files_validation = get_folder_files(validation_data_dir)\n",
    "\n",
    "print(files_train, files_validation)"
   ]
  },
  {
   "cell_type": "code",
   "execution_count": 36,
   "metadata": {
    "collapsed": true
   },
   "outputs": [],
   "source": [
    "img_width, img_height = 48, 48\n",
    "\n",
    "nb_train_samples = files_train\n",
    "nb_validation_samples = files_validation\n",
    "\n",
    "batch_size = 32\n",
    "epochs = 15\n",
    "num_classes = 2"
   ]
  },
  {
   "cell_type": "code",
   "execution_count": 37,
   "metadata": {
    "collapsed": true
   },
   "outputs": [],
   "source": [
    "model = applications.VGG16(weights = \"imagenet\", include_top=False, input_shape = (img_width, img_height, 3))\n",
    "\n",
    "for layer in model.layers[:10]:\n",
    "    layer.trainable = False"
   ]
  },
  {
   "cell_type": "code",
   "execution_count": 38,
   "metadata": {},
   "outputs": [
    {
     "name": "stderr",
     "output_type": "stream",
     "text": [
      "/anaconda/lib/python3.6/site-packages/ipykernel_launcher.py:5: UserWarning: Update your `Model` call to the Keras 2 API: `Model(inputs=Tensor(\"in..., outputs=Tensor(\"de...)`\n",
      "  \"\"\"\n"
     ]
    }
   ],
   "source": [
    "x = model.output\n",
    "x = Flatten()(x)\n",
    "\n",
    "predictions = Dense(num_classes, activation=\"softmax\")(x)\n",
    "model_final = Model(input = model.input, output = predictions)\n",
    "\n",
    "model_final.compile(loss = \"categorical_crossentropy\", \n",
    "                    optimizer = optimizers.SGD(lr = 0.0001, momentum = 0.9), \n",
    "                    metrics = [\"accuracy\"])"
   ]
  },
  {
   "cell_type": "code",
   "execution_count": 39,
   "metadata": {
    "collapsed": true
   },
   "outputs": [],
   "source": [
    "def gen_image_generator(data_dir):\n",
    "    data_gen = ImageDataGenerator(\n",
    "        rescale = 1. / 255,\n",
    "        horizontal_flip = True,\n",
    "        fill_mode = \"nearest\",\n",
    "        zoom_range = 0.1,\n",
    "        width_shift_range = 0.1,\n",
    "        height_shift_range=0.1,\n",
    "        rotation_range=5)\n",
    "    \n",
    "    image_generator = data_gen.flow_from_directory(\n",
    "        data_dir,\n",
    "        target_size = (img_height, img_width),\n",
    "        batch_size = batch_size,\n",
    "        class_mode = \"categorical\")\n",
    "    \n",
    "    return image_generator"
   ]
  },
  {
   "cell_type": "code",
   "execution_count": 40,
   "metadata": {},
   "outputs": [
    {
     "name": "stdout",
     "output_type": "stream",
     "text": [
      "Found 381 images belonging to 2 classes.\n",
      "Found 164 images belonging to 2 classes.\n"
     ]
    }
   ],
   "source": [
    "train_generator = gen_image_generator(train_data_dir)\n",
    "validation_generator = gen_image_generator(validation_data_dir)"
   ]
  },
  {
   "cell_type": "code",
   "execution_count": 41,
   "metadata": {
    "collapsed": true
   },
   "outputs": [],
   "source": [
    "checkpoint = ModelCheckpoint(\"carl.h5\", monitor='val_acc', \n",
    "                             verbose=1, save_best_only=True, save_weights_only=False, \n",
    "                             mode='auto', period=1)\n",
    "early = EarlyStopping(monitor='val_acc', min_delta=0, patience=10, verbose=1, mode='auto')"
   ]
  },
  {
   "cell_type": "code",
   "execution_count": 42,
   "metadata": {},
   "outputs": [
    {
     "name": "stderr",
     "output_type": "stream",
     "text": [
      "/anaconda/lib/python3.6/site-packages/ipykernel_launcher.py:7: UserWarning: The semantics of the Keras 2 argument `steps_per_epoch` is not the same as the Keras 1 argument `samples_per_epoch`. `steps_per_epoch` is the number of batches to draw from the generator at each epoch. Basically steps_per_epoch = samples_per_epoch/batch_size. Similarly `nb_val_samples`->`validation_steps` and `val_samples`->`steps` arguments have changed. Update your method calls accordingly.\n",
      "  import sys\n",
      "/anaconda/lib/python3.6/site-packages/ipykernel_launcher.py:7: UserWarning: Update your `fit_generator` call to the Keras 2 API: `fit_generator(<keras_pre..., validation_data=<keras_pre..., epochs=15, callbacks=[<keras.ca..., steps_per_epoch=11, validation_steps=164)`\n",
      "  import sys\n"
     ]
    },
    {
     "name": "stdout",
     "output_type": "stream",
     "text": [
      "Epoch 1/15\n",
      "11/11 [==============================] - 70s 6s/step - loss: 0.4671 - acc: 0.7642 - val_loss: 0.4253 - val_acc: 0.7765\n",
      "\n",
      "Epoch 00001: val_acc improved from -inf to 0.77649, saving model to carl.h5\n",
      "Epoch 2/15\n",
      "11/11 [==============================] - 73s 7s/step - loss: 0.3511 - acc: 0.8213 - val_loss: 0.3312 - val_acc: 0.8655\n",
      "\n",
      "Epoch 00002: val_acc improved from 0.77649 to 0.86554, saving model to carl.h5\n",
      "Epoch 3/15\n",
      "11/11 [==============================] - 73s 7s/step - loss: 0.2413 - acc: 0.9310 - val_loss: 0.2620 - val_acc: 0.9059\n",
      "\n",
      "Epoch 00003: val_acc improved from 0.86554 to 0.90591, saving model to carl.h5\n",
      "Epoch 4/15\n",
      "11/11 [==============================] - 81s 7s/step - loss: 0.1786 - acc: 0.9486 - val_loss: 0.2273 - val_acc: 0.9154\n",
      "\n",
      "Epoch 00004: val_acc improved from 0.90591 to 0.91541, saving model to carl.h5\n",
      "Epoch 5/15\n",
      "11/11 [==============================] - 90s 8s/step - loss: 0.1415 - acc: 0.9713 - val_loss: 0.2129 - val_acc: 0.9154\n",
      "\n",
      "Epoch 00005: val_acc did not improve from 0.91541\n",
      "Epoch 6/15\n",
      "11/11 [==============================] - 91s 8s/step - loss: 0.1188 - acc: 0.9716 - val_loss: 0.2021 - val_acc: 0.9218\n",
      "\n",
      "Epoch 00006: val_acc improved from 0.91541 to 0.92182, saving model to carl.h5\n",
      "Epoch 7/15\n",
      "11/11 [==============================] - 67s 6s/step - loss: 0.1014 - acc: 0.9656 - val_loss: 0.1905 - val_acc: 0.9250\n",
      "\n",
      "Epoch 00007: val_acc improved from 0.92182 to 0.92498, saving model to carl.h5\n",
      "Epoch 8/15\n",
      "11/11 [==============================] - 69s 6s/step - loss: 0.0984 - acc: 0.9630 - val_loss: 0.1873 - val_acc: 0.9234\n",
      "\n",
      "Epoch 00008: val_acc did not improve from 0.92498\n",
      "Epoch 9/15\n",
      "11/11 [==============================] - 70s 6s/step - loss: 0.0745 - acc: 0.9798 - val_loss: 0.1777 - val_acc: 0.9283\n",
      "\n",
      "Epoch 00009: val_acc improved from 0.92498 to 0.92832, saving model to carl.h5\n",
      "Epoch 10/15\n",
      "11/11 [==============================] - 69s 6s/step - loss: 0.0863 - acc: 0.9801 - val_loss: 0.1717 - val_acc: 0.9312\n",
      "\n",
      "Epoch 00010: val_acc improved from 0.92832 to 0.93121, saving model to carl.h5\n",
      "Epoch 11/15\n",
      "11/11 [==============================] - 69s 6s/step - loss: 0.0729 - acc: 0.9767 - val_loss: 0.1688 - val_acc: 0.9279\n",
      "\n",
      "Epoch 00011: val_acc did not improve from 0.93121\n",
      "Epoch 12/15\n",
      "11/11 [==============================] - 71s 6s/step - loss: 0.0696 - acc: 0.9801 - val_loss: 0.1699 - val_acc: 0.9306\n",
      "\n",
      "Epoch 00012: val_acc did not improve from 0.93121\n",
      "Epoch 13/15\n",
      "11/11 [==============================] - 71s 6s/step - loss: 0.0663 - acc: 0.9773 - val_loss: 0.1688 - val_acc: 0.9285\n",
      "\n",
      "Epoch 00013: val_acc did not improve from 0.93121\n",
      "Epoch 14/15\n",
      "11/11 [==============================] - 73s 7s/step - loss: 0.0587 - acc: 0.9824 - val_loss: 0.1568 - val_acc: 0.9359\n",
      "\n",
      "Epoch 00014: val_acc improved from 0.93121 to 0.93589, saving model to carl.h5\n",
      "Epoch 15/15\n",
      "11/11 [==============================] - 75s 7s/step - loss: 0.0615 - acc: 0.9767 - val_loss: 0.1598 - val_acc: 0.9306\n",
      "\n",
      "Epoch 00015: val_acc did not improve from 0.93589\n"
     ]
    }
   ],
   "source": [
    "history_object = model_final.fit_generator(\n",
    "    train_generator, \n",
    "    samples_per_epoch = nb_train_samples,\n",
    "    validation_data = validation_generator,\n",
    "    nb_val_samples = nb_validation_samples,\n",
    "    epochs = epochs,\n",
    "    callbacks = [checkpoint, early])"
   ]
  },
  {
   "cell_type": "code",
   "execution_count": 30,
   "metadata": {},
   "outputs": [
    {
     "name": "stdout",
     "output_type": "stream",
     "text": [
      "dict_keys(['val_loss', 'val_acc', 'loss', 'acc'])\n"
     ]
    }
   ],
   "source": [
    "import matplotlib.pyplot as plt\n",
    "print(history_object.history.keys())"
   ]
  },
  {
   "cell_type": "code",
   "execution_count": 31,
   "metadata": {
    "collapsed": true
   },
   "outputs": [],
   "source": [
    "def generate_chart(key1, key2, title, ylabel, xlabel):\n",
    "    plt.plot(history_object.history[key1])\n",
    "    plt.plot(history_object.history[key2])\n",
    "    plt.title(title)\n",
    "    plt.ylabel(ylabel)\n",
    "    plt.xlabel(xlabel)\n",
    "    plt.legend(['train', 'test'], loc='upper left')\n",
    "    plt.show()"
   ]
  },
  {
   "cell_type": "code",
   "execution_count": 32,
   "metadata": {},
   "outputs": [
    {
     "data": {
      "image/png": "[encoded data removed]",
      "text/plain": [
       "<matplotlib.figure.Figure at 0x12ea42748>"
      ]
     },
     "metadata": {},
     "output_type": "display_data"
    },
    {
     "data": {
      "image/png": "[encoded data removed]",
      "text/plain": [
       "<matplotlib.figure.Figure at 0x12ea42780>"
      ]
     },
     "metadata": {},
     "output_type": "display_data"
    }
   ],
   "source": [
    "generate_chart('acc', 'val_acc', 'model accuracy', 'acc', 'epoch')\n",
    "generate_chart('loss', 'val_loss', 'model loss', 'loss', 'epoch')"
   ]
  },
  {
   "cell_type": "code",
   "execution_count": null,
   "metadata": {
    "collapsed": true
   },
   "outputs": [],
   "source": []
  }
 ],
 "metadata": {
  "kernelspec": {
   "display_name": "Python 3",
   "language": "python",
   "name": "python3"
  },
  "language_info": {
   "codemirror_mode": {
    "name": "ipython",
    "version": 3
   },
   "file_extension": ".py",
   "mimetype": "text/x-python",
   "name": "python",
   "nbconvert_exporter": "python",
   "pygments_lexer": "ipython3",
   "version": "3.6.1"
  }
 },
 "nbformat": 4,
 "nbformat_minor": 2
}
